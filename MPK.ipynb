{
 "cells": [
  {
   "cell_type": "code",
   "execution_count": 37,
   "metadata": {},
   "outputs": [
    {
     "name": "stderr",
     "output_type": "stream",
     "text": [
      "/usr/lib/python2.7/json/encoder.py:207: DeprecationWarning: Interpreting naive datetime as local 2017-04-17 03:22:08.046325. Please add timezone info to timestamps.\n",
      "  chunks = self.iterencode(o, _one_shot=True)\n"
     ]
    }
   ],
   "source": [
    "%reset_selective '-f' .*\n",
    "var('D11 v12 v13 v14 v15 D16')\n",
    "var('h21 d22 d23 d24 d25 h26')\n",
    "var('h31 d32 d33 d34 d35 h36')\n",
    "var('h41 d42 d43 d44 d45 h46')\n",
    "var('h51 d52 d53 d54 d55 h56')\n",
    "var('D61 v62 v63 v64 v65 D66')\n",
    "var('B1 b2 b3 b4 b5 B6')\n",
    "A = [\n",
    "    [D11, v12, v13, v14, v15, D16],\n",
    "    [h21, d22, d23, d24, d25, h26],\n",
    "    [h31, d32, d33, d34, d35, h36],\n",
    "    [h41, d42, d43, d44, d45, h46],\n",
    "    [h51, d52, d53, d54, d55, h56],\n",
    "    [D61, v62, v63, v64, v65, D66],\n",
    "]\n",
    "b = [B1, b2, b3, b4, b5, B6]"
   ]
  },
  {
   "cell_type": "code",
   "execution_count": 38,
   "metadata": {},
   "outputs": [
    {
     "data": {
      "text/plain": [
       "(\n",
       "[D11 v12 v13 v14 v15 D16]  [B1]\n",
       "[h21 d22 d23 d24 d25 h26]  [b2]\n",
       "[h31 d32 d33 d34 d35 h36]  [b3]\n",
       "[h41 d42 d43 d44 d45 h46]  [b4]\n",
       "[h51 d52 d53 d54 d55 h56]  [b5]\n",
       "[D61 v62 v63 v64 v65 D66], [B6]\n",
       ")"
      ]
     },
     "execution_count": 38,
     "metadata": {},
     "output_type": "execute_result"
    },
    {
     "name": "stderr",
     "output_type": "stream",
     "text": [
      "/usr/lib/python2.7/json/encoder.py:207: DeprecationWarning: Interpreting naive datetime as local 2017-04-17 03:22:09.179598. Please add timezone info to timestamps.\n",
      "  chunks = self.iterencode(o, _one_shot=True)\n"
     ]
    }
   ],
   "source": [
    "A=matrix(A)\n",
    "b=vector(b)\n",
    "A,matrix(b).transpose()"
   ]
  },
  {
   "cell_type": "code",
   "execution_count": 39,
   "metadata": {},
   "outputs": [
    {
     "data": {
      "text/plain": [
       "[(D11^2 + D16*D61 + h21*v12 + h31*v13 + h41*v14 + h51*v15)*B1 + (D11*D16 + D16*D66 + h26*v12 + h36*v13 + h46*v14 + h56*v15)*B6 + (D11*v12 + d22*v12 + d32*v13 + d42*v14 + d52*v15 + D16*v62)*b2 + (d23*v12 + D11*v13 + d33*v13 + d43*v14 + d53*v15 + D16*v63)*b3 + (d24*v12 + d34*v13 + D11*v14 + d44*v14 + d54*v15 + D16*v64)*b4 + (d25*v12 + d35*v13 + d45*v14 + D11*v15 + d55*v15 + D16*v65)*b5]\n",
       "[(D11*h21 + d22*h21 + D61*h26 + d23*h31 + d24*h41 + d25*h51)*B1 + (D16*h21 + D66*h26 + d22*h26 + d23*h36 + d24*h46 + d25*h56)*B6 + (d22^2 + d23*d32 + d24*d42 + d25*d52 + h21*v12 + h26*v62)*b2 + (d22*d23 + d23*d33 + d24*d43 + d25*d53 + h21*v13 + h26*v63)*b3 + (d22*d24 + d23*d34 + d24*d44 + d25*d54 + h21*v14 + h26*v64)*b4 + (d22*d25 + d23*d35 + d24*d45 + d25*d55 + h21*v15 + h26*v65)*b5]\n",
       "[(d32*h21 + D11*h31 + d33*h31 + D61*h36 + d34*h41 + d35*h51)*B1 + (d32*h26 + D16*h31 + D66*h36 + d33*h36 + d34*h46 + d35*h56)*B6 + (d22*d32 + d32*d33 + d34*d42 + d35*d52 + h31*v12 + h36*v62)*b2 + (d23*d32 + d33^2 + d34*d43 + d35*d53 + h31*v13 + h36*v63)*b3 + (d24*d32 + d33*d34 + d34*d44 + d35*d54 + h31*v14 + h36*v64)*b4 + (d25*d32 + d33*d35 + d34*d45 + d35*d55 + h31*v15 + h36*v65)*b5]\n",
       "[(d42*h21 + d43*h31 + D11*h41 + d44*h41 + D61*h46 + d45*h51)*B1 + (d42*h26 + d43*h36 + D16*h41 + D66*h46 + d44*h46 + d45*h56)*B6 + (d22*d42 + d32*d43 + d42*d44 + d45*d52 + h41*v12 + h46*v62)*b2 + (d23*d42 + d33*d43 + d43*d44 + d45*d53 + h41*v13 + h46*v63)*b3 + (d24*d42 + d34*d43 + d44^2 + d45*d54 + h41*v14 + h46*v64)*b4 + (d25*d42 + d35*d43 + d44*d45 + d45*d55 + h41*v15 + h46*v65)*b5]\n",
       "[(d52*h21 + d53*h31 + d54*h41 + D11*h51 + d55*h51 + D61*h56)*B1 + (d52*h26 + d53*h36 + d54*h46 + D16*h51 + D66*h56 + d55*h56)*B6 + (d22*d52 + d32*d53 + d42*d54 + d52*d55 + h51*v12 + h56*v62)*b2 + (d23*d52 + d33*d53 + d43*d54 + d53*d55 + h51*v13 + h56*v63)*b3 + (d24*d52 + d34*d53 + d44*d54 + d54*d55 + h51*v14 + h56*v64)*b4 + (d25*d52 + d35*d53 + d45*d54 + d55^2 + h51*v15 + h56*v65)*b5]\n",
       "[(D11*D61 + D61*D66 + h21*v62 + h31*v63 + h41*v64 + h51*v65)*B1 + (D16*D61 + D66^2 + h26*v62 + h36*v63 + h46*v64 + h56*v65)*B6 + (D61*v12 + D66*v62 + d22*v62 + d32*v63 + d42*v64 + d52*v65)*b2 + (D61*v13 + d23*v62 + D66*v63 + d33*v63 + d43*v64 + d53*v65)*b3 + (D61*v14 + d24*v62 + d34*v63 + D66*v64 + d44*v64 + d54*v65)*b4 + (D61*v15 + d25*v62 + d35*v63 + d45*v64 + D66*v65 + d55*v65)*b5]"
      ]
     },
     "execution_count": 39,
     "metadata": {},
     "output_type": "execute_result"
    },
    {
     "name": "stderr",
     "output_type": "stream",
     "text": [
      "/usr/lib/python2.7/json/encoder.py:207: DeprecationWarning: Interpreting naive datetime as local 2017-04-17 03:22:12.893814. Please add timezone info to timestamps.\n",
      "  chunks = self.iterencode(o, _one_shot=True)\n"
     ]
    }
   ],
   "source": [
    "matrix(A^2*b).transpose()"
   ]
  },
  {
   "cell_type": "code",
   "execution_count": 36,
   "metadata": {},
   "outputs": [
    {
     "data": {
      "text/plain": [
       "[B1*D11 + B6*D16 + b2*v12 + b3*v13 + b4*v14 + b5*v15]\n",
       "[b2*d22 + b3*d23 + b4*d24 + b5*d25 + B1*h21 + B6*h26]\n",
       "[b2*d32 + b3*d33 + b4*d34 + b5*d35 + B1*h31 + B6*h36]\n",
       "[b2*d42 + b3*d43 + b4*d44 + b5*d45 + B1*h41 + B6*h46]\n",
       "[b2*d52 + b3*d53 + b4*d54 + b5*d55 + B1*h51 + B6*h56]\n",
       "[B1*D61 + B6*D66 + b2*v62 + b3*v63 + b4*v64 + b5*v65]"
      ]
     },
     "execution_count": 36,
     "metadata": {},
     "output_type": "execute_result"
    },
    {
     "name": "stderr",
     "output_type": "stream",
     "text": [
      "/usr/lib/python2.7/json/encoder.py:207: DeprecationWarning: Interpreting naive datetime as local 2017-04-17 03:21:15.383439. Please add timezone info to timestamps.\n",
      "  chunks = self.iterencode(o, _one_shot=True)\n"
     ]
    }
   ],
   "source": [
    "matrix(A*b).transpose()"
   ]
  },
  {
   "cell_type": "code",
   "execution_count": 50,
   "metadata": {},
   "outputs": [
    {
     "name": "stderr",
     "output_type": "stream",
     "text": [
      "/usr/lib/python2.7/json/encoder.py:207: DeprecationWarning: Interpreting naive datetime as local 2017-04-17 04:12:06.212226. Please add timezone info to timestamps.\n",
      "  chunks = self.iterencode(o, _one_shot=True)\n"
     ]
    }
   ],
   "source": [
    "var('a11 a12')\n",
    "var('a21 a22 a23')\n",
    "var('a32 a33 a34')\n",
    "var('a43 a44 a45')\n",
    "var('a54 a55 a56')\n",
    "var('a65 a66')\n",
    "B = matrix([\n",
    "    [a11,a12,0,0,0,0],\n",
    "    [a21,a22,a23,0,0,0],\n",
    "    [0,a32,a33,a34,0,0],\n",
    "    [0,0,a43,a44,a45,0],\n",
    "    [0,0,0,a54,a55,a56],\n",
    "    [0,0,0,0,a65,a66],\n",
    "])\n",
    "var('r1 r2 r3 r4 r5 r6')\n",
    "r = vector([r1,r2,r3,r4,r5,r6])"
   ]
  },
  {
   "cell_type": "code",
   "execution_count": 53,
   "metadata": {},
   "outputs": [
    {
     "data": {
      "text/plain": [
       "[         a11*r1 + a12*r2]\n",
       "[a21*r1 + a22*r2 + a23*r3]\n",
       "[a32*r2 + a33*r3 + a34*r4]\n",
       "[a43*r3 + a44*r4 + a45*r5]\n",
       "[a54*r4 + a55*r5 + a56*r6]\n",
       "[         a65*r5 + a66*r6]"
      ]
     },
     "execution_count": 53,
     "metadata": {},
     "output_type": "execute_result"
    },
    {
     "name": "stderr",
     "output_type": "stream",
     "text": [
      "/usr/lib/python2.7/json/encoder.py:207: DeprecationWarning: Interpreting naive datetime as local 2017-04-17 04:12:41.188485. Please add timezone info to timestamps.\n",
      "  chunks = self.iterencode(o, _one_shot=True)\n"
     ]
    }
   ],
   "source": [
    "matrix(B*r).transpose()"
   ]
  },
  {
   "cell_type": "code",
   "execution_count": 55,
   "metadata": {},
   "outputs": [
    {
     "data": {
      "text/plain": [
       "[                                          (a11*r1 + a12*r2)*a11 + (a21*r1 + a22*r2 + a23*r3)*a12]\n",
       "[         (a11*r1 + a12*r2)*a21 + (a21*r1 + a22*r2 + a23*r3)*a22 + (a32*r2 + a33*r3 + a34*r4)*a23]\n",
       "[(a21*r1 + a22*r2 + a23*r3)*a32 + (a32*r2 + a33*r3 + a34*r4)*a33 + (a43*r3 + a44*r4 + a45*r5)*a34]\n",
       "[(a32*r2 + a33*r3 + a34*r4)*a43 + (a43*r3 + a44*r4 + a45*r5)*a44 + (a54*r4 + a55*r5 + a56*r6)*a45]\n",
       "[         (a43*r3 + a44*r4 + a45*r5)*a54 + (a54*r4 + a55*r5 + a56*r6)*a55 + (a65*r5 + a66*r6)*a56]\n",
       "[                                          (a54*r4 + a55*r5 + a56*r6)*a65 + (a65*r5 + a66*r6)*a66]"
      ]
     },
     "execution_count": 55,
     "metadata": {},
     "output_type": "execute_result"
    },
    {
     "name": "stderr",
     "output_type": "stream",
     "text": [
      "/usr/lib/python2.7/json/encoder.py:207: DeprecationWarning: Interpreting naive datetime as local 2017-04-17 04:45:41.999941. Please add timezone info to timestamps.\n",
      "  chunks = self.iterencode(o, _one_shot=True)\n"
     ]
    }
   ],
   "source": [
    "matrix(B*(B*r)).transpose()"
   ]
  },
  {
   "cell_type": "code",
   "execution_count": null,
   "metadata": {
    "collapsed": true
   },
   "outputs": [],
   "source": []
  }
 ],
 "metadata": {
  "kernelspec": {
   "display_name": "SageMath 7.6",
   "language": "",
   "name": "sagemath"
  },
  "language_info": {
   "codemirror_mode": {
    "name": "ipython",
    "version": 2
   },
   "file_extension": ".py",
   "mimetype": "text/x-python",
   "name": "python",
   "nbconvert_exporter": "python",
   "pygments_lexer": "ipython2",
   "version": "2.7.13"
  }
 },
 "nbformat": 4,
 "nbformat_minor": 2
}
