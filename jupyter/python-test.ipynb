{
 "cells": [
  {
   "cell_type": "code",
   "execution_count": 29,
   "metadata": {
    "collapsed": false
   },
   "outputs": [
    {
     "data": {
      "image/png": "[encoded data removed]",
      "text/plain": [
       "<matplotlib.figure.Figure at 0x7f066baa14e0>"
      ]
     },
     "metadata": {},
     "output_type": "display_data"
    }
   ],
   "source": [
    "\n",
    "%matplotlib inline\n",
    "\n",
    "import numpy as np\n",
    "import seaborn as sns\n",
    "import matplotlib.pyplot as plt\n",
    "\n",
    "sns.set(rc={\"figure.figsize\": (1, 2)})\n",
    "        np.random.seed(sum(map(ord, \"palettes\")))\n",
    "\n",
    "current_palette = sns.color_palette(\"hls\",25)\n",
    "sns.palplot(current_palette)"
   ]
  },
  {
   "cell_type": "code",
   "execution_count": 30,
   "metadata": {
    "collapsed": false
   },
   "outputs": [
    {
     "data": {
      "text/plain": [
       "[(0.86, 0.3712, 0.33999999999999997),\n",
       " (0.86, 0.496, 0.33999999999999997),\n",
       " (0.86, 0.6208, 0.33999999999999997),\n",
       " (0.86, 0.7456, 0.33999999999999997),\n",
       " (0.8496, 0.86, 0.33999999999999997),\n",
       " (0.7247999999999999, 0.86, 0.33999999999999997),\n",
       " (0.6000000000000001, 0.86, 0.33999999999999997),\n",
       " (0.47519999999999996, 0.86, 0.33999999999999997),\n",
       " (0.3503999999999999, 0.86, 0.33999999999999997),\n",
       " (0.33999999999999997, 0.86, 0.4544),\n",
       " (0.33999999999999997, 0.86, 0.5792000000000002),\n",
       " (0.33999999999999997, 0.86, 0.7040000000000001),\n",
       " (0.33999999999999997, 0.86, 0.8288),\n",
       " (0.33999999999999997, 0.7663999999999997, 0.86),\n",
       " (0.33999999999999997, 0.6415999999999997, 0.86),\n",
       " (0.33999999999999997, 0.5167999999999999, 0.86),\n",
       " (0.33999999999999997, 0.3919999999999998, 0.86),\n",
       " (0.4128000000000003, 0.33999999999999997, 0.86),\n",
       " (0.5375999999999996, 0.33999999999999997, 0.86),\n",
       " (0.6623999999999999, 0.33999999999999997, 0.86),\n",
       " (0.7871999999999999, 0.33999999999999997, 0.86),\n",
       " (0.86, 0.33999999999999997, 0.808),\n",
       " (0.86, 0.33999999999999997, 0.6831999999999999),\n",
       " (0.86, 0.33999999999999997, 0.5583999999999998),\n",
       " (0.86, 0.33999999999999997, 0.4335999999999997)]"
      ]
     },
     "execution_count": 30,
     "metadata": {},
     "output_type": "execute_result"
    }
   ],
   "source": [
    "current_palette"
   ]
  },
  {
   "cell_type": "code",
   "execution_count": null,
   "metadata": {
    "collapsed": true
   },
   "outputs": [],
   "source": []
  }
 ],
 "metadata": {
  "kernelspec": {
   "display_name": "Python 3",
   "language": "python",
   "name": "python3"
  },
  "language_info": {
   "codemirror_mode": {
    "name": "ipython",
    "version": 3
   },
   "file_extension": ".py",
   "mimetype": "text/x-python",
   "name": "python",
   "nbconvert_exporter": "python",
   "pygments_lexer": "ipython3",
   "version": "3.6.0"
  }
 },
 "nbformat": 4,
 "nbformat_minor": 2
}
