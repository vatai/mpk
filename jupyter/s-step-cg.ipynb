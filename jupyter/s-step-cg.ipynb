{
 "cells": [
  {
   "cell_type": "code",
   "execution_count": 1,
   "id": "2511ff2b",
   "metadata": {},
   "outputs": [],
   "source": [
    "import numpy as np\n",
    "import scipy.sparse as sparse\n",
    "import scipy.sparse.linalg as linalg\n",
    "import scipy.io as io\n",
    "import matplotlib.pylab as plt\n",
    "from pathlib import Path"
   ]
  },
  {
   "cell_type": "code",
   "execution_count": 2,
   "id": "af5317ef",
   "metadata": {},
   "outputs": [
    {
     "data": {
      "text/plain": [
       "8266217.206972408"
      ]
     },
     "execution_count": 2,
     "metadata": {},
     "output_type": "execute_result"
    },
    {
     "data": {
      "image/png": "[encoded data removed]",
      "text/plain": [
       "<Figure size 432x288 with 1 Axes>"
      ]
     },
     "metadata": {
      "needs_background": "light"
     },
     "output_type": "display_data"
    }
   ],
   "source": [
    "path = \"~/Downloads/ch3-3-b2/\"\n",
    "path = \"~/Downloads/farm/\"\n",
    "path = \"~/Downloads/mesh1em1/\"\n",
    "path = \"~/Downloads/b1_ss/\"\n",
    "path = \"~/Downloads/pores_1/\"\n",
    "path = \"~/Downloads/bcsstm02/\"\n",
    "path = \"~/Downloads/bcsstm08/\"\n",
    "files = list(Path(path).expanduser().glob(\"*\"))\n",
    "\n",
    "fig, axs = plt.subplots(nrows=1, ncols=len(files))\n",
    "\n",
    "for i, file in enumerate(files):\n",
    "    A = io.mmread(file)\n",
    "    ax = axs[i] if len(files) > 1 else axs\n",
    "    ax.spy(A, markersize=1)\n",
    "\n",
    "np.linalg.cond(A.toarray())"
   ]
  },
  {
   "cell_type": "code",
   "execution_count": 8,
   "id": "6e7de44b",
   "metadata": {},
   "outputs": [
    {
     "ename": "IndexError",
     "evalue": "tuple index out of range",
     "output_type": "error",
     "traceback": [
      "\u001b[0;31m---------------------------------------------------------------------------\u001b[0m",
      "\u001b[0;31mIndexError\u001b[0m                                Traceback (most recent call last)",
      "Input \u001b[0;32mIn [8]\u001b[0m, in \u001b[0;36m<cell line: 4>\u001b[0;34m()\u001b[0m\n\u001b[1;32m      2\u001b[0m \u001b[38;5;66;03m# b = np.ones((N))\u001b[39;00m\n\u001b[1;32m      3\u001b[0m b \u001b[38;5;241m=\u001b[39m np\u001b[38;5;241m.\u001b[39mrandom\u001b[38;5;241m.\u001b[39muniform(N)\n\u001b[0;32m----> 4\u001b[0m sol \u001b[38;5;241m=\u001b[39m \u001b[43mlinalg\u001b[49m\u001b[38;5;241;43m.\u001b[39;49m\u001b[43mspsolve\u001b[49m\u001b[43m(\u001b[49m\u001b[43mA\u001b[49m\u001b[43m,\u001b[49m\u001b[43m \u001b[49m\u001b[43mb\u001b[49m\u001b[43m)\u001b[49m\n\u001b[1;32m      5\u001b[0m np\u001b[38;5;241m.\u001b[39mlinalg\u001b[38;5;241m.\u001b[39mnorm(A \u001b[38;5;241m@\u001b[39m sol \u001b[38;5;241m-\u001b[39m b)\n",
      "File \u001b[0;32m/usr/lib/python3.10/site-packages/scipy/sparse/linalg/_dsolve/linsolve.py:191\u001b[0m, in \u001b[0;36mspsolve\u001b[0;34m(A, b, permc_spec, use_umfpack)\u001b[0m\n\u001b[1;32m    188\u001b[0m \u001b[38;5;28;01mif\u001b[39;00m (M \u001b[38;5;241m!=\u001b[39m N):\n\u001b[1;32m    189\u001b[0m     \u001b[38;5;28;01mraise\u001b[39;00m \u001b[38;5;167;01mValueError\u001b[39;00m(\u001b[38;5;124m\"\u001b[39m\u001b[38;5;124mmatrix must be square (has shape \u001b[39m\u001b[38;5;132;01m%s\u001b[39;00m\u001b[38;5;124m)\u001b[39m\u001b[38;5;124m\"\u001b[39m \u001b[38;5;241m%\u001b[39m ((M, N),))\n\u001b[0;32m--> 191\u001b[0m \u001b[38;5;28;01mif\u001b[39;00m M \u001b[38;5;241m!=\u001b[39m \u001b[43mb\u001b[49m\u001b[38;5;241;43m.\u001b[39;49m\u001b[43mshape\u001b[49m\u001b[43m[\u001b[49m\u001b[38;5;241;43m0\u001b[39;49m\u001b[43m]\u001b[49m:\n\u001b[1;32m    192\u001b[0m     \u001b[38;5;28;01mraise\u001b[39;00m \u001b[38;5;167;01mValueError\u001b[39;00m(\u001b[38;5;124m\"\u001b[39m\u001b[38;5;124mmatrix - rhs dimension mismatch (\u001b[39m\u001b[38;5;132;01m%s\u001b[39;00m\u001b[38;5;124m - \u001b[39m\u001b[38;5;132;01m%s\u001b[39;00m\u001b[38;5;124m)\u001b[39m\u001b[38;5;124m\"\u001b[39m\n\u001b[1;32m    193\u001b[0m                      \u001b[38;5;241m%\u001b[39m (A\u001b[38;5;241m.\u001b[39mshape, b\u001b[38;5;241m.\u001b[39mshape[\u001b[38;5;241m0\u001b[39m]))\n\u001b[1;32m    195\u001b[0m use_umfpack \u001b[38;5;241m=\u001b[39m use_umfpack \u001b[38;5;129;01mand\u001b[39;00m useUmfpack\n",
      "\u001b[0;31mIndexError\u001b[0m: tuple index out of range"
     ]
    }
   ],
   "source": [
    "N = A.shape[0]\n",
    "b = np.ones((N))\n",
    "print\n",
    "b = np.random.uniform(N)\n",
    "sol = linalg.spsolve(A, b)\n",
    "np.linalg.norm(A @ sol - b)"
   ]
  },
  {
   "cell_type": "code",
   "execution_count": 4,
   "id": "90f8480c",
   "metadata": {},
   "outputs": [
    {
     "name": "stdout",
     "output_type": "stream",
     "text": [
      "[-4.4408921e-16 -4.4408921e-16 -4.4408921e-16 ... -4.4408921e-16\n",
      " -4.4408921e-16 -4.4408921e-16]\n"
     ]
    }
   ],
   "source": [
    "def cg(A, b):\n",
    "    # x = np.random.rand(*b.shape)\n",
    "    x = np.zeros(b.shape)\n",
    "    r = b - A @ x\n",
    "    rr = r.T.dot(r)\n",
    "    p = r\n",
    "    for k in range(1000):\n",
    "        Ap = A @ p # A.dot(p)\n",
    "        a = rr / p.T.dot(Ap)\n",
    "        x = x + a * p\n",
    "        r = r - a * Ap\n",
    "        rr1 = r.T.dot(r)\n",
    "        b = rr1 / rr\n",
    "        rr = rr1\n",
    "        p = r + b * p\n",
    "    return x\n",
    "\n",
    "cg_sol = cg(A, b)\n",
    "\n",
    "print(A @ cg_sol - b)\n"
   ]
  },
  {
   "cell_type": "code",
   "execution_count": 5,
   "id": "25ca53a6",
   "metadata": {},
   "outputs": [
    {
     "data": {
      "text/plain": [
       "8266217.206972408"
      ]
     },
     "execution_count": 5,
     "metadata": {},
     "output_type": "execute_result"
    }
   ],
   "source": [
    "np.linalg.cond(A.toarray())"
   ]
  },
  {
   "cell_type": "code",
   "execution_count": 6,
   "id": "4ef20574",
   "metadata": {},
   "outputs": [
    {
     "name": "stdout",
     "output_type": "stream",
     "text": [
      "i=0\n",
      "Q @ P.T=array([[0., 0., 0., 0.],\n",
      "       [0., 0., 0., 0.],\n",
      "       [0., 0., 0., 0.],\n",
      "       [0., 0., 0., 0.]])\n",
      "i=1\n",
      "Q @ P.T=array([[ 1.38957797e+04,  9.72234010e+06, -2.33246095e+12,\n",
      "        -5.08562019e+18],\n",
      "       [ 1.68822820e+10,  1.06397290e+13, -4.88333552e+18,\n",
      "         1.02281950e+25],\n",
      "       [ 2.15310344e+16,  1.21070115e+19,  1.16425098e+25,\n",
      "         5.38127083e+31],\n",
      "       [ 2.81378561e+22,  3.41529882e+25,  5.64546380e+31,\n",
      "         1.37869322e+38]])\n",
      "i=2\n",
      "Q @ P.T=array([[2.48382204e+04, 2.60453001e+10, 4.14807291e+16, 6.01143801e+22],\n",
      "       [3.44533765e+10, 3.87925958e+16, 4.96263543e+22, 6.43496956e+28],\n",
      "       [3.91416797e+16, 4.16196826e+22, 5.07796572e+28, 6.39990745e+34],\n",
      "       [3.73223468e+22, 3.71385252e+28, 4.39747458e+34, 5.42050750e+40]])\n",
      "i=3\n",
      "Q @ P.T=array([[ 7.12552861e+05,  3.05970527e+11,  2.82346153e+17,\n",
      "         2.85005533e+23],\n",
      "       [ 2.12523008e+11,  3.31972664e+17,  4.18794693e+23,\n",
      "         4.10666076e+29],\n",
      "       [-4.22592403e+17,  3.66629478e+23,  5.91849931e+29,\n",
      "         5.68511410e+35],\n",
      "       [-1.17310830e+24,  4.36012704e+29,  8.34641397e+35,\n",
      "         7.91440977e+41]])\n",
      "i=4\n",
      "Q @ P.T=array([[-2.00214686e+08, -3.73699793e+14, -5.89277280e+20,\n",
      "        -8.78741494e+26],\n",
      "       [-3.03041929e+14, -8.26418202e+20, -1.48499402e+27,\n",
      "        -2.34625927e+33],\n",
      "       [-4.49763950e+20, -1.44931235e+27, -2.71054698e+33,\n",
      "        -4.35017783e+39],\n",
      "       [-6.73430314e+26, -2.33912725e+33, -4.44294160e+39,\n",
      "        -7.17216226e+45]])\n",
      "i=5\n",
      "Q @ P.T=array([[-7.23260212e+10, -2.08225393e+17, -3.93362584e+23,\n",
      "        -6.52938244e+29],\n",
      "       [-1.44458740e+17, -4.24204347e+23, -8.05098698e+29,\n",
      "        -1.33859442e+36],\n",
      "       [-2.35866334e+23, -6.99476838e+29, -1.33054995e+36,\n",
      "        -2.21401689e+42],\n",
      "       [-3.59214692e+29, -1.07131068e+36, -2.04047885e+42,\n",
      "        -3.39687643e+48]])\n",
      "i=6\n",
      "Q @ P.T=array([[-1.74263241e+13, -3.56788528e+19, -5.89747678e+25,\n",
      "        -9.04501430e+31],\n",
      "       [-3.88664196e+19, -7.99126142e+25, -1.32362265e+32,\n",
      "        -2.03242798e+38],\n",
      "       [-6.90421636e+25, -1.42116145e+32, -2.35520255e+38,\n",
      "        -3.61753426e+44],\n",
      "       [-1.12928524e+32, -2.32505510e+38, -3.85359448e+44,\n",
      "        -5.91939117e+50]])\n",
      "i=7\n",
      "Q @ P.T=array([[-7.10965978e+15, -1.57363575e+22, -2.78976637e+28,\n",
      "        -4.56128249e+34],\n",
      "       [-1.47160537e+22, -3.27657634e+28, -5.81800666e+34,\n",
      "        -9.51559151e+40],\n",
      "       [-2.39335593e+28, -5.34104040e+34, -9.48950162e+40,\n",
      "        -1.55224005e+47],\n",
      "       [-3.58788600e+34, -8.01596621e+40, -1.42464151e+47,\n",
      "        -2.33049268e+53]])\n",
      "i=8\n",
      "Q @ P.T=array([[1.53442355e+19, 3.17713045e+25, 5.16765526e+31, 7.74702082e+37],\n",
      "       [3.15945494e+25, 6.52929835e+31, 1.06121161e+38, 1.59030327e+44],\n",
      "       [5.03684836e+31, 1.04009507e+38, 1.68996096e+44, 2.53214111e+50],\n",
      "       [7.36745690e+37, 1.52076442e+44, 2.47058416e+50, 3.70149747e+56]])\n",
      "4740509.89423986\n"
     ]
    }
   ],
   "source": [
    "def check(x, b, numtests=5):\n",
    "    for _ in range(numtests):\n",
    "        xbad = x + np.random.normal(size=x.shape)\n",
    "        d = np.linalg.norm(x-b)\n",
    "        dbad = np.linalg.norm(xbad-b)\n",
    "        assert dbad > d\n",
    "\n",
    "\n",
    "def powers(M, A, r):\n",
    "    M[0] = r\n",
    "    for i in range(1, len(M)):\n",
    "        M[i] = A @ M[i-1]\n",
    "\n",
    "\n",
    "def scalar_work(i, P):\n",
    "    W = np.array([[pj @ A @ pi.T for pj in P] for pi in P])\n",
    "    Winv = np.linalg.inv(W)\n",
    "    r, s = P[0], len(P)\n",
    "    m = np.array([r @ p for p in P])\n",
    "    alpha = Winv @ m\n",
    "    beta = np.zeros([s, s])\n",
    "    if i > 0:\n",
    "        c = np.zeros(s)\n",
    "        Akr = r\n",
    "        c[-1] = - r @ Akr / alpha[-1]\n",
    "        beta[0] = -c @ Winv\n",
    "        for k in range(1, s):\n",
    "            Akr = A @ Akr\n",
    "            c[:-1] = c[1:]\n",
    "            rest = sum([alpha[-2-t] * c[-2-t] for t in range(k)])\n",
    "            c[-1] = -1 / alpha[-1] * ((r @ Akr) + rest)\n",
    "            beta[k] = -c @ Winv\n",
    "    return alpha, beta\n",
    "\n",
    "\n",
    "def s_cg(A, b, s=4):\n",
    "    x = np.zeros(b.shape)\n",
    "    P = np.zeros([s, len(b)])\n",
    "    Q = np.zeros([s, len(b)])\n",
    "    powers(Q, A, b - A @ x)\n",
    "    for i in range(9):\n",
    "        print(f\"{i=}\")\n",
    "        alpha, beta = scalar_work(i, Q)\n",
    "        Q += beta @ P\n",
    "        print(f\"{Q @ P.T=}\")\n",
    "        # assert np.all(np.isclose(np.zeros(s), Q @ P.T)), \"Not orthogonal.\"\n",
    "        x += alpha @ Q\n",
    "        check(x, b)\n",
    "        powers(P, A, b - A @ x)\n",
    "        P, Q = Q, P\n",
    "    return x\n",
    "\n",
    "\n",
    "s_cg_sol = s_cg(A, b)\n",
    "print(np.linalg.norm(s_cg_sol @ A - b))"
   ]
  },
  {
   "cell_type": "code",
   "execution_count": null,
   "id": "994d23fd",
   "metadata": {},
   "outputs": [],
   "source": []
  }
 ],
 "metadata": {
  "kernelspec": {
   "display_name": "Python 3 (ipykernel)",
   "language": "python",
   "name": "python3"
  },
  "language_info": {
   "codemirror_mode": {
    "name": "ipython",
    "version": 3
   },
   "file_extension": ".py",
   "mimetype": "text/x-python",
   "name": "python",
   "nbconvert_exporter": "python",
   "pygments_lexer": "ipython3",
   "version": "3.10.5"
  }
 },
 "nbformat": 4,
 "nbformat_minor": 5
}
