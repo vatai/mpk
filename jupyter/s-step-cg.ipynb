{
 "cells": [
  {
   "cell_type": "code",
   "execution_count": 1,
   "id": "2511ff2b",
   "metadata": {},
   "outputs": [],
   "source": [
    "%matplotlib inline\n",
    "import numpy as np\n",
    "import scipy.sparse as sparse\n",
    "import scipy.sparse.linalg as linalg\n",
    "import scipy.io as io\n",
    "import matplotlib.pylab as plt\n",
    "from pathlib import Path"
   ]
  },
  {
   "cell_type": "code",
   "execution_count": 2,
   "id": "af5317ef",
   "metadata": {},
   "outputs": [
    {
     "data": {
      "text/plain": [
       "8266217.206972408"
      ]
     },
     "execution_count": 2,
     "metadata": {},
     "output_type": "execute_result"
    },
    {
     "data": {
      "image/png": "[encoded data removed]",
      "text/plain": [
       "<Figure size 640x480 with 1 Axes>"
      ]
     },
     "metadata": {},
     "output_type": "display_data"
    }
   ],
   "source": [
    "path = \"~/Downloads/ch3-3-b2/\"\n",
    "path = \"~/Downloads/farm/\"\n",
    "path = \"~/Downloads/mesh1em1/\"\n",
    "path = \"~/Downloads/pores_1/\"\n",
    "# path = \"~/Downloads/bcsstm02/\"\n",
    "path = \"~/Downloads/bcsstm08/\"\n",
    "files = list(Path(path).expanduser().glob(\"*\"))\n",
    "\n",
    "fig, axs = plt.subplots(nrows=1, ncols=len(files))\n",
    "\n",
    "for i, file in enumerate(files):\n",
    "    A = io.mmread(file)\n",
    "    ax = axs[i] if len(files) > 1 else axs\n",
    "    ax.spy(A, markersize=1)\n",
    "assert np.all(A.toarray() == A.toarray().T)\n",
    "np.linalg.cond(A.toarray())"
   ]
  },
  {
   "cell_type": "code",
   "execution_count": 3,
   "id": "6e7de44b",
   "metadata": {},
   "outputs": [
    {
     "name": "stderr",
     "output_type": "stream",
     "text": [
      "/usr/lib/python3.10/site-packages/scipy/sparse/linalg/_dsolve/linsolve.py:168: SparseEfficiencyWarning: spsolve requires A be CSC or CSR matrix format\n",
      "  warn('spsolve requires A be CSC or CSR matrix format',\n"
     ]
    },
    {
     "data": {
      "text/plain": [
       "7.012060430444545e-16"
      ]
     },
     "execution_count": 3,
     "metadata": {},
     "output_type": "execute_result"
    }
   ],
   "source": [
    "N = A.shape[0]\n",
    "# b = np.ones((N))\n",
    "b = np.random.uniform(size=N)\n",
    "sol = linalg.spsolve(A, b)\n",
    "np.linalg.norm(A @ sol - b)"
   ]
  },
  {
   "cell_type": "code",
   "execution_count": 4,
   "id": "90f8480c",
   "metadata": {},
   "outputs": [
    {
     "name": "stdout",
     "output_type": "stream",
     "text": [
      "[ 2.77555756e-17 -6.66133815e-16  2.22044605e-16 ...  8.88178420e-16\n",
      "  0.00000000e+00 -1.11022302e-15]\n"
     ]
    }
   ],
   "source": [
    "def cg(A, b):\n",
    "    # x = np.random.rand(*b.shape)\n",
    "    x = np.zeros(b.shape)\n",
    "    r = b - A @ x\n",
    "    rr = r.T.dot(r)\n",
    "    p = r\n",
    "    for k in range(1000):\n",
    "        Ap = A @ p # A.dot(p)\n",
    "        a = rr / p.T.dot(Ap)\n",
    "        x = x + a * p\n",
    "        r = r - a * Ap\n",
    "        rr1 = r.T.dot(r)\n",
    "        b = rr1 / rr\n",
    "        rr = rr1\n",
    "        p = r + b * p\n",
    "    return x\n",
    "\n",
    "cg_sol = cg(A, b)\n",
    "\n",
    "print(A @ cg_sol - b)\n"
   ]
  },
  {
   "cell_type": "code",
   "execution_count": 5,
   "id": "25ca53a6",
   "metadata": {},
   "outputs": [
    {
     "data": {
      "text/plain": [
       "8266217.206972408"
      ]
     },
     "execution_count": 5,
     "metadata": {},
     "output_type": "execute_result"
    }
   ],
   "source": [
    "np.linalg.cond(A.toarray())"
   ]
  },
  {
   "cell_type": "code",
   "execution_count": 6,
   "id": "ec222111",
   "metadata": {},
   "outputs": [],
   "source": [
    "def check(x, b, numtests=5):\n",
    "    for _ in range(numtests):\n",
    "        xbad = x + np.random.normal(size=x.shape)\n",
    "        d = np.linalg.norm(x-b)\n",
    "        dbad = np.linalg.norm(xbad-b)\n",
    "        assert dbad > d\n",
    "\n",
    "def krylov(M, A, r):\n",
    "    M[0] = r.copy()\n",
    "    for i in range(1, len(M)):\n",
    "        M[i] = A @ M[i-1]\n",
    "    return M, M @ r\n"
   ]
  },
  {
   "cell_type": "code",
   "execution_count": 15,
   "id": "90912679",
   "metadata": {},
   "outputs": [
    {
     "name": "stdout",
     "output_type": "stream",
     "text": [
      "      r         alpha          beta             p           x\n",
      " 19.049,   0.00026432,          0.0,       19.049    0.005035 True\n",
      " 267.35,   3.6176e-06,       196.97,       3761.6    0.018634 True\n",
      " 209.49,   1.3875e-06,      0.61402,       2319.2     0.02184 True\n"
     ]
    }
   ],
   "source": [
    "numsteps = 3\n",
    "Rs = np.zeros([numsteps, N])\n",
    "alphas = np.zeros(numsteps)\n",
    "betas = np.zeros(numsteps)\n",
    "Ps = np.zeros([numsteps, N])\n",
    "Xs = np.zeros([numsteps, N])\n",
    "def cg_algo23(A, b, numsteps):\n",
    "    x = np.zeros(b.shape)\n",
    "    r = b - A @ x\n",
    "    p = r\n",
    "    Ar = A @ r\n",
    "    rr = r @ r\n",
    "    rAr = r @ Ar\n",
    "    alpha = rr / rAr\n",
    "    beta = 0.0\n",
    "    Ap = np.ones(*r.shape)\n",
    "    print(\"      r         alpha          beta             p           x\")\n",
    "    for i in range(numsteps):\n",
    "        p = r + beta * p\n",
    "        Ap = Ar + beta * Ap\n",
    "        rcheck = np.all(np.isclose(b - A @ x, r))\n",
    "        x += alpha * p\n",
    "        print(f\"{np.linalg.norm(r):7.5}, \"\n",
    "              f\"{alpha:12.5}, \"\n",
    "              f\"{beta:12.5}, \"\n",
    "              f\"{np.linalg.norm(p):12.5}\"\n",
    "              f\"{np.linalg.norm(x):12.5}\"\n",
    "              f\" {rcheck}\"\n",
    "             )\n",
    "        Rs[i], alphas[i], betas[i], Ps[i], Xs[i] = r, alpha, beta, p, x\n",
    "        r = r - alpha * Ap\n",
    "        Ar = A @ r\n",
    "        rAr = r @ Ar\n",
    "        beta = r @ r / rr\n",
    "        rr = r @ r\n",
    "        alpha = rr / (rAr - beta/alpha * rr)\n",
    "    return x\n",
    "\n",
    "x_sol_23 = cg_algo23(A, b, numsteps)\n",
    "r = A @ x_sol_23 - b\n",
    "# print(np.linalg.norm(r))\n",
    "# assert np.all(np.isclose(r, 0)), \"Not a solution.\""
   ]
  },
  {
   "cell_type": "code",
   "execution_count": 41,
   "id": "4ef20574",
   "metadata": {},
   "outputs": [
    {
     "name": "stdout",
     "output_type": "stream",
     "text": [
      "      r         alpha          beta             p           x\n",
      ">>          0.0,    5.421e-20,          0.0,          0.0  1.0726e-18\n",
      "         19.049,   0.00026432,          0.0,       19.049    0.005035\n",
      ">>   6.6031e-14,   6.3527e-21,   1.1369e-13,   2.1959e-12   3.279e-17\n",
      "         267.35,   3.6176e-06,       196.97,       3761.6    0.018634\n",
      ">>   4.7775e-13,    2.034e-07,      0.44788,       1684.8   0.0024651\n",
      "         209.49,   1.1841e-06,      0.16614,       659.13    0.019375\n"
     ]
    }
   ],
   "source": [
    "s = 1\n",
    "x = np.zeros(b.shape)\n",
    "P = np.zeros([s, len(b)])\n",
    "Q = np.zeros([s, len(b)])\n",
    "mu = np.zeros(2*s)\n",
    "beta = np.zeros([s, s])\n",
    "#alpha = np.zeros(s)\n",
    "c = np.ones([s, s])\n",
    "\n",
    "r = b - A @ x\n",
    "# print(np.linalg.norm(r))\n",
    "residuals = [r]\n",
    "Q, mu = krylov(Q, A, r)\n",
    "\n",
    "print(\"      r         alpha          beta             p           x\")\n",
    "for i in range(numsteps):\n",
    "    if i > 0:\n",
    "        Akr = r.copy()\n",
    "        c[0, -1] = - r @ Akr / alpha[-1]\n",
    "        beta[0] = np.linalg.solve(W, -c[0])\n",
    "        for k in range(1, s):\n",
    "            Akr = A @ Akr\n",
    "            c[k, :-1] = c[k, 1:]\n",
    "            rest = sum([alpha[-2-t] * c[k, -2-t] for t in range(k)])\n",
    "            # assert np.isclose(r @ Akr, mu[k])\n",
    "            c[k, -1] = -1 / alpha[-1] * ((r @ Akr) + rest)\n",
    "            beta[k] = np.linalg.solve(W, -c[k])\n",
    "    W = np.array([[pj @ A @ pi for pi in Q] for pj in Q])    \n",
    "    mod = - beta/alpha * mu if i > 0 else 0\n",
    "    alpha = np.linalg.solve(W + mod, mu)\n",
    "    Q = Q + beta @ P\n",
    "    x = x + alpha @ Q\n",
    "    # check(x, b)\n",
    "    print(f\">> {np.linalg.norm(r - Rs[i]):12.5}, \"\n",
    "          f\"{np.linalg.norm(alpha - alphas[i]):12.5}, \"\n",
    "          f\"{np.linalg.norm(beta - betas[i]):12.5}, \"\n",
    "          f\"{np.linalg.norm(Q - Ps[i]):12.5}\"\n",
    "          f\"{np.linalg.norm(x - Xs[i]):12.5}\"\n",
    "         )\n",
    "    \n",
    "    print(f\"        {np.linalg.norm(r):7.5}, \"\n",
    "          f\"{np.linalg.norm(alpha):12.5}, \"\n",
    "          f\"{np.linalg.norm(beta):12.5}, \"\n",
    "          f\"{np.linalg.norm(Q):12.5}\"\n",
    "          f\"{np.linalg.norm(x):12.5}\"\n",
    "         )\n",
    "    \n",
    "    r = b - A @ x\n",
    "    # print(f\"{np.linalg.norm(r)=}\")\n",
    "    residuals.append(r)\n",
    "    P, mu = krylov(P, A, r)\n",
    "    P, Q = Q, P\n",
    "\n",
    "#s_cg_sol = s_cg(A, b)\n",
    "s_cg_sol = x\n",
    "# print(np.linalg.norm(s_cg_sol @ A - b))"
   ]
  },
  {
   "cell_type": "code",
   "execution_count": null,
   "id": "994d23fd",
   "metadata": {},
   "outputs": [],
   "source": []
  }
 ],
 "metadata": {
  "kernelspec": {
   "display_name": "Python 3 (ipykernel)",
   "language": "python",
   "name": "python3"
  },
  "language_info": {
   "codemirror_mode": {
    "name": "ipython",
    "version": 3
   },
   "file_extension": ".py",
   "mimetype": "text/x-python",
   "name": "python",
   "nbconvert_exporter": "python",
   "pygments_lexer": "ipython3",
   "version": "3.10.6"
  }
 },
 "nbformat": 4,
 "nbformat_minor": 5
}
