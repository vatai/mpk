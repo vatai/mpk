{
 "cells": [
  {
   "cell_type": "code",
   "execution_count": 1,
   "id": "2511ff2b",
   "metadata": {},
   "outputs": [],
   "source": [
    "import numpy as np\n",
    "import scipy.sparse as sparse\n",
    "import scipy.sparse.linalg as linalg\n",
    "import scipy.io as io\n",
    "import matplotlib.pylab as plt\n",
    "from pathlib import Path"
   ]
  },
  {
   "cell_type": "code",
   "execution_count": 2,
   "id": "af5317ef",
   "metadata": {},
   "outputs": [
    {
     "data": {
      "text/plain": [
       "8266217.206972408"
      ]
     },
     "execution_count": 2,
     "metadata": {},
     "output_type": "execute_result"
    },
    {
     "data": {
      "image/png": "[encoded data removed]",
      "text/plain": [
       "<Figure size 432x288 with 1 Axes>"
      ]
     },
     "metadata": {
      "needs_background": "light"
     },
     "output_type": "display_data"
    }
   ],
   "source": [
    "path = \"~/Downloads/ch3-3-b2/\"\n",
    "path = \"~/Downloads/farm/\"\n",
    "path = \"~/Downloads/mesh1em1/\"\n",
    "path = \"~/Downloads/b1_ss/\"\n",
    "path = \"~/Downloads/pores_1/\"\n",
    "path = \"~/Downloads/bcsstm02/\"\n",
    "path = \"~/Downloads/bcsstm08/\"\n",
    "files = list(Path(path).expanduser().glob(\"*\"))\n",
    "\n",
    "fig, axs = plt.subplots(nrows=1, ncols=len(files))\n",
    "\n",
    "for i, file in enumerate(files):\n",
    "    A = io.mmread(file)\n",
    "    ax = axs[i] if len(files) > 1 else axs\n",
    "    ax.spy(A, markersize=1)\n",
    "\n",
    "np.linalg.cond(A.toarray())"
   ]
  },
  {
   "cell_type": "code",
   "execution_count": 9,
   "id": "6e7de44b",
   "metadata": {},
   "outputs": [
    {
     "data": {
      "text/plain": [
       "7.771561172376096e-16"
      ]
     },
     "execution_count": 9,
     "metadata": {},
     "output_type": "execute_result"
    }
   ],
   "source": [
    "b = np.ones((A.shape[0]))\n",
    "sol = linalg.spsolve(A, b)\n",
    "np.linalg.norm(A @ sol - b)"
   ]
  },
  {
   "cell_type": "code",
   "execution_count": 10,
   "id": "90f8480c",
   "metadata": {},
   "outputs": [
    {
     "name": "stdout",
     "output_type": "stream",
     "text": [
      "[-4.4408921e-16 -4.4408921e-16 -4.4408921e-16 ... -4.4408921e-16\n",
      " -4.4408921e-16 -4.4408921e-16]\n"
     ]
    }
   ],
   "source": [
    "def cg(A, b):\n",
    "    # x = np.random.rand(*b.shape)\n",
    "    x = np.zeros(b.shape)\n",
    "    r = b - A @ x\n",
    "    rr = r.T.dot(r)\n",
    "    p = r\n",
    "    for k in range(1000):\n",
    "        Ap = A @ p # A.dot(p)\n",
    "        a = rr / p.T.dot(Ap)\n",
    "        x = x + a * p\n",
    "        r = r - a * Ap\n",
    "        rr1 = r.T.dot(r)\n",
    "        b = rr1 / rr\n",
    "        rr = rr1\n",
    "        p = r + b * p\n",
    "    return x\n",
    "\n",
    "cg_sol = cg(A, b)\n",
    "\n",
    "print(A @ cg_sol - b)\n"
   ]
  },
  {
   "cell_type": "code",
   "execution_count": 11,
   "id": "25ca53a6",
   "metadata": {},
   "outputs": [
    {
     "data": {
      "text/plain": [
       "8266217.206972408"
      ]
     },
     "execution_count": 11,
     "metadata": {},
     "output_type": "execute_result"
    }
   ],
   "source": [
    "np.linalg.cond(A.toarray())"
   ]
  },
  {
   "cell_type": "code",
   "execution_count": 32,
   "id": "152fb41a",
   "metadata": {},
   "outputs": [
    {
     "data": {
      "text/plain": [
       "array([[1.00000000e+00, 1.00000000e+00, 1.00000000e+00, ...,\n",
       "        1.00000000e+00, 1.00000000e+00, 1.00000000e+00],\n",
       "       [7.99000000e-01, 1.00000000e+03, 1.00000000e+03, ...,\n",
       "        1.00000000e+03, 1.00000000e+03, 1.00000000e+03],\n",
       "       [6.38401000e-01, 1.00000000e+06, 1.00000000e+06, ...,\n",
       "        1.00000000e+06, 1.00000000e+06, 1.00000000e+06],\n",
       "       [5.10082399e-01, 1.00000000e+09, 1.00000000e+09, ...,\n",
       "        1.00000000e+09, 1.00000000e+09, 1.00000000e+09]])"
      ]
     },
     "execution_count": 32,
     "metadata": {},
     "output_type": "execute_result"
    }
   ],
   "source": [
    "def check(x, b, numtests=5):\n",
    "    for _ in range(numtests):\n",
    "        xbad = x + np.random.normal(size=x.shape)\n",
    "        d = np.linalg.norm(x-b)\n",
    "        dbad = np.linalg.norm(xbad-b)\n",
    "        assert dbad > d\n",
    "\n",
    "def s_cg(A, b, s=4):\n",
    "    x = np.zeros(b.shape)\n",
    "    r = b - A @ x\n",
    "    rr = r.T.dot(r)\n",
    "    pp = []\n",
    "    p = r\n",
    "    for _ in range(s):\n",
    "        pp.append(p)\n",
    "        p = A @ p\n",
    "    pp = np.vstack(pp)\n",
    "    # print(f\"{pp.shape=}\")\n",
    "    for _ in range(10):\n",
    "        # print(f\"{pp.shape=}\")\n",
    "        m = np.array([r @ p for p in pp])\n",
    "        # print(f\"{m.shape=}\")\n",
    "        # W_i @ a = m_i = [(r, p^1),... , (r, p^s)]\n",
    "        W = np.array([[pj @ A @ pi.T for pj in pp] for pi in pp])\n",
    "        # print(f\"{W.shape=}\")\n",
    "        a = np.linalg.inv(W) @ m\n",
    "        x = x + (a @ pp).reshape(*x.shape)\n",
    "        check(x, b)\n",
    "        tmp = b - A @ x\n",
    "        # print(f\"{tmp.shape=}\")\n",
    "        rs = []\n",
    "        for i in range(s):\n",
    "            rs.append(tmp)\n",
    "            tmp = A @ tmp\n",
    "        rs = np.vstack(rs)\n",
    "        # print(f\"{rs.shape=}\")\n",
    "        r = rs[0]\n",
    "    return pp\n",
    "\n",
    "s_cg(A, b)\n"
   ]
  },
  {
   "cell_type": "code",
   "execution_count": null,
   "id": "b75857ed",
   "metadata": {},
   "outputs": [],
   "source": []
  }
 ],
 "metadata": {
  "kernelspec": {
   "display_name": "Python 3 (ipykernel)",
   "language": "python",
   "name": "python3"
  },
  "language_info": {
   "codemirror_mode": {
    "name": "ipython",
    "version": 3
   },
   "file_extension": ".py",
   "mimetype": "text/x-python",
   "name": "python",
   "nbconvert_exporter": "python",
   "pygments_lexer": "ipython3",
   "version": "3.10.5"
  }
 },
 "nbformat": 4,
 "nbformat_minor": 5
}
