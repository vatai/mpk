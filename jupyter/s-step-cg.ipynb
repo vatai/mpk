{
 "cells": [
  {
   "cell_type": "code",
   "execution_count": 46,
   "id": "e52a4240",
   "metadata": {},
   "outputs": [],
   "source": [
    "import numpy as np\n",
    "import scipy.sparse as sparse\n",
    "import scipy.sparse.linalg as linalg\n",
    "import scipy.io as io\n",
    "import matplotlib.pylab as plt\n",
    "from pathlib import Path"
   ]
  },
  {
   "cell_type": "code",
   "execution_count": 47,
   "id": "073765c2",
   "metadata": {},
   "outputs": [
    {
     "data": {
      "image/png": "[encoded data removed]",
      "text/plain": [
       "<Figure size 432x288 with 1 Axes>"
      ]
     },
     "metadata": {
      "needs_background": "light"
     },
     "output_type": "display_data"
    }
   ],
   "source": [
    "path = \"/home/vatai/Downloads/ch3-3-b2/\"\n",
    "path = \"/home/vatai/Downloads/farm/\"\n",
    "path = \"/home/vatai/Downloads/mesh1em1/\"\n",
    "path = \"/home/vatai/Downloads/b1_ss/\"\n",
    "path = \"/home/vatai/Downloads/pores_1/\"\n",
    "files = list(Path(path).glob(\"*\"))\n",
    "\n",
    "fig, axs = plt.subplots(nrows=1, ncols=len(files))\n",
    "\n",
    "for i, file in enumerate(files):\n",
    "    A = io.mmread(file)\n",
    "    ax = axs[i] if len(files) > 1 else axs\n",
    "    ax.spy(A, markersize=1)\n"
   ]
  },
  {
   "cell_type": "code",
   "execution_count": 54,
   "id": "d4a519c8",
   "metadata": {},
   "outputs": [
    {
     "name": "stderr",
     "output_type": "stream",
     "text": [
      "/usr/lib/python3.10/site-packages/scipy/sparse/linalg/_dsolve/linsolve.py:144: SparseEfficiencyWarning: spsolve requires A be CSC or CSR matrix format\n",
      "  warn('spsolve requires A be CSC or CSR matrix format',\n"
     ]
    },
    {
     "data": {
      "text/plain": [
       "2.8905572596485424e-10"
      ]
     },
     "execution_count": 54,
     "metadata": {},
     "output_type": "execute_result"
    }
   ],
   "source": [
    "b = np.ones((A.shape[0], 1))\n",
    "sol = linalg.spsolve(A, b)\n",
    "np.linalg.norm(A @ sol - b)"
   ]
  },
  {
   "cell_type": "code",
   "execution_count": 56,
   "id": "2a025dbd",
   "metadata": {},
   "outputs": [],
   "source": [
    "def cg(A, b):\n",
    "    pass\n",
    "\n",
    "cg_sol = cg(A, b)\n",
    "\n",
    "def s_step_cg(A, b):\n",
    "    pass\n",
    "\n",
    "s_sol = s_step_cg(A, b)"
   ]
  },
  {
   "cell_type": "code",
   "execution_count": null,
   "id": "56917c1b",
   "metadata": {},
   "outputs": [],
   "source": []
  }
 ],
 "metadata": {
  "kernelspec": {
   "display_name": "Python 3 (ipykernel)",
   "language": "python",
   "name": "python3"
  },
  "language_info": {
   "codemirror_mode": {
    "name": "ipython",
    "version": 3
   },
   "file_extension": ".py",
   "mimetype": "text/x-python",
   "name": "python",
   "nbconvert_exporter": "python",
   "pygments_lexer": "ipython3",
   "version": "3.10.4"
  }
 },
 "nbformat": 4,
 "nbformat_minor": 5
}
