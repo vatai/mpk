{
 "cells": [
  {
   "cell_type": "code",
   "execution_count": 1,
   "id": "2511ff2b",
   "metadata": {},
   "outputs": [],
   "source": [
    "import numpy as np\n",
    "import scipy.sparse as sparse\n",
    "import scipy.sparse.linalg as linalg\n",
    "import scipy.io as io\n",
    "import matplotlib.pylab as plt\n",
    "from pathlib import Path"
   ]
  },
  {
   "cell_type": "code",
   "execution_count": 2,
   "id": "af5317ef",
   "metadata": {},
   "outputs": [
    {
     "data": {
      "text/plain": [
       "8266217.206972408"
      ]
     },
     "execution_count": 2,
     "metadata": {},
     "output_type": "execute_result"
    },
    {
     "data": {
      "image/png": "[encoded data removed]",
      "text/plain": [
       "<Figure size 432x288 with 1 Axes>"
      ]
     },
     "metadata": {
      "needs_background": "light"
     },
     "output_type": "display_data"
    }
   ],
   "source": [
    "path = \"~/Downloads/ch3-3-b2/\"\n",
    "path = \"~/Downloads/farm/\"\n",
    "path = \"~/Downloads/mesh1em1/\"\n",
    "path = \"~/Downloads/pores_1/\"\n",
    "# path = \"~/Downloads/bcsstm02/\"\n",
    "path = \"~/Downloads/bcsstm08/\"\n",
    "files = list(Path(path).expanduser().glob(\"*\"))\n",
    "\n",
    "fig, axs = plt.subplots(nrows=1, ncols=len(files))\n",
    "\n",
    "for i, file in enumerate(files):\n",
    "    A = io.mmread(file)\n",
    "    ax = axs[i] if len(files) > 1 else axs\n",
    "    ax.spy(A, markersize=1)\n",
    "\n",
    "np.linalg.cond(A.toarray())"
   ]
  },
  {
   "cell_type": "code",
   "execution_count": 3,
   "id": "6e7de44b",
   "metadata": {},
   "outputs": [
    {
     "name": "stderr",
     "output_type": "stream",
     "text": [
      "/usr/lib/python3.10/site-packages/scipy/sparse/linalg/_dsolve/linsolve.py:168: SparseEfficiencyWarning: spsolve requires A be CSC or CSR matrix format\n",
      "  warn('spsolve requires A be CSC or CSR matrix format',\n"
     ]
    },
    {
     "data": {
      "text/plain": [
       "5.727963929017772e-16"
      ]
     },
     "execution_count": 3,
     "metadata": {},
     "output_type": "execute_result"
    }
   ],
   "source": [
    "N = A.shape[0]\n",
    "# b = np.ones((N))\n",
    "b = np.random.uniform(size=N)\n",
    "sol = linalg.spsolve(A, b)\n",
    "np.linalg.norm(A @ sol - b)"
   ]
  },
  {
   "cell_type": "code",
   "execution_count": 4,
   "id": "90f8480c",
   "metadata": {},
   "outputs": [
    {
     "name": "stdout",
     "output_type": "stream",
     "text": [
      "[ 4.99600361e-16 -5.55111512e-16  8.32667268e-17 ... -1.11022302e-16\n",
      "  0.00000000e+00 -1.66533454e-16]\n"
     ]
    }
   ],
   "source": [
    "def cg(A, b):\n",
    "    # x = np.random.rand(*b.shape)\n",
    "    x = np.zeros(b.shape)\n",
    "    r = b - A @ x\n",
    "    rr = r.T.dot(r)\n",
    "    p = r\n",
    "    for k in range(1000):\n",
    "        Ap = A @ p # A.dot(p)\n",
    "        a = rr / p.T.dot(Ap)\n",
    "        x = x + a * p\n",
    "        r = r - a * Ap\n",
    "        rr1 = r.T.dot(r)\n",
    "        b = rr1 / rr\n",
    "        rr = rr1\n",
    "        p = r + b * p\n",
    "    return x\n",
    "\n",
    "cg_sol = cg(A, b)\n",
    "\n",
    "print(A @ cg_sol - b)\n"
   ]
  },
  {
   "cell_type": "code",
   "execution_count": 5,
   "id": "25ca53a6",
   "metadata": {},
   "outputs": [
    {
     "data": {
      "text/plain": [
       "8266217.206972408"
      ]
     },
     "execution_count": 5,
     "metadata": {},
     "output_type": "execute_result"
    }
   ],
   "source": [
    "np.linalg.cond(A.toarray())"
   ]
  },
  {
   "cell_type": "code",
   "execution_count": 8,
   "id": "4ef20574",
   "metadata": {},
   "outputs": [
    {
     "name": "stdout",
     "output_type": "stream",
     "text": [
      "i=0\n",
      "np.linalg.norm(Q[0])=18.92633905000084\n",
      "i=1\n",
      "np.linalg.norm(Q[0])=44.28922954293631\n",
      "i=2\n",
      "np.linalg.norm(Q[0])=32.32409196153736\n",
      "i=3\n",
      "np.linalg.norm(Q[0])=237.17797306152266\n",
      "i=4\n",
      "np.linalg.norm(Q[0])=2500.038627202502\n",
      "i=5\n",
      "np.linalg.norm(Q[0])=7788.417111960307\n",
      "i=6\n",
      "np.linalg.norm(Q[0])=5321.559017467926\n",
      "i=7\n",
      "np.linalg.norm(Q[0])=503625.8878599761\n",
      "i=8\n",
      "np.linalg.norm(Q[0])=62079258.490354225\n",
      "i=9\n",
      "np.linalg.norm(Q[0])=178383809.52630228\n"
     ]
    },
    {
     "ename": "AssertionError",
     "evalue": "",
     "output_type": "error",
     "traceback": [
      "\u001b[0;31m---------------------------------------------------------------------------\u001b[0m",
      "\u001b[0;31mAssertionError\u001b[0m                            Traceback (most recent call last)",
      "Input \u001b[0;32mIn [8]\u001b[0m, in \u001b[0;36m<cell line: 61>\u001b[0;34m()\u001b[0m\n\u001b[1;32m     57\u001b[0m         P, Q \u001b[38;5;241m=\u001b[39m Q, P\n\u001b[1;32m     58\u001b[0m     \u001b[38;5;28;01mreturn\u001b[39;00m x\n\u001b[0;32m---> 61\u001b[0m s_cg_sol \u001b[38;5;241m=\u001b[39m \u001b[43ms_cg\u001b[49m\u001b[43m(\u001b[49m\u001b[43mA\u001b[49m\u001b[43m,\u001b[49m\u001b[43m \u001b[49m\u001b[43mb\u001b[49m\u001b[43m)\u001b[49m\n\u001b[1;32m     62\u001b[0m \u001b[38;5;28mprint\u001b[39m(np\u001b[38;5;241m.\u001b[39mlinalg\u001b[38;5;241m.\u001b[39mnorm(s_cg_sol \u001b[38;5;241m@\u001b[39m A \u001b[38;5;241m-\u001b[39m b))\n",
      "Input \u001b[0;32mIn [8]\u001b[0m, in \u001b[0;36ms_cg\u001b[0;34m(A, b, s)\u001b[0m\n\u001b[1;32m     50\u001b[0m \u001b[38;5;66;03m# plt.imshow(orth)\u001b[39;00m\n\u001b[1;32m     51\u001b[0m \u001b[38;5;66;03m# plt.show()\u001b[39;00m\n\u001b[1;32m     52\u001b[0m \u001b[38;5;66;03m# print(f\"{orth=}\")\u001b[39;00m\n\u001b[1;32m     53\u001b[0m \u001b[38;5;66;03m# assert np.all(np.isclose(np.zeros(s), Q @ P.T)), \"Not orthogonal.\"\u001b[39;00m\n\u001b[1;32m     54\u001b[0m x \u001b[38;5;241m+\u001b[39m\u001b[38;5;241m=\u001b[39m alpha \u001b[38;5;241m@\u001b[39m Q\n\u001b[0;32m---> 55\u001b[0m \u001b[43mcheck\u001b[49m\u001b[43m(\u001b[49m\u001b[43mx\u001b[49m\u001b[43m,\u001b[49m\u001b[43m \u001b[49m\u001b[43mb\u001b[49m\u001b[43m)\u001b[49m\n\u001b[1;32m     56\u001b[0m powers(P, A, b \u001b[38;5;241m-\u001b[39m A \u001b[38;5;241m@\u001b[39m x)\n\u001b[1;32m     57\u001b[0m P, Q \u001b[38;5;241m=\u001b[39m Q, P\n",
      "Input \u001b[0;32mIn [8]\u001b[0m, in \u001b[0;36mcheck\u001b[0;34m(x, b, numtests)\u001b[0m\n\u001b[1;32m      5\u001b[0m d \u001b[38;5;241m=\u001b[39m np\u001b[38;5;241m.\u001b[39mlinalg\u001b[38;5;241m.\u001b[39mnorm(x\u001b[38;5;241m-\u001b[39mb)\n\u001b[1;32m      6\u001b[0m dbad \u001b[38;5;241m=\u001b[39m np\u001b[38;5;241m.\u001b[39mlinalg\u001b[38;5;241m.\u001b[39mnorm(xbad\u001b[38;5;241m-\u001b[39mb)\n\u001b[0;32m----> 7\u001b[0m \u001b[38;5;28;01massert\u001b[39;00m dbad \u001b[38;5;241m>\u001b[39m d\n",
      "\u001b[0;31mAssertionError\u001b[0m: "
     ]
    }
   ],
   "source": [
    "%matplotlib inline\n",
    "def check(x, b, numtests=5):\n",
    "    for _ in range(numtests):\n",
    "        xbad = x + np.random.normal(size=x.shape)\n",
    "        d = np.linalg.norm(x-b)\n",
    "        dbad = np.linalg.norm(xbad-b)\n",
    "        assert dbad > d\n",
    "\n",
    "\n",
    "def powers(M, A, r):\n",
    "    M[0] = r\n",
    "    for i in range(1, len(M)):\n",
    "        M[i] = A @ M[i-1]\n",
    "\n",
    "\n",
    "def scalar_work(i, P):\n",
    "    W = np.array([[pj @ A @ pi.T for pj in P] for pi in P])\n",
    "    Winv = np.linalg.inv(W)\n",
    "    r, s = P[0], len(P)\n",
    "    m = np.array([r @ p for p in P])\n",
    "    alpha = Winv @ m\n",
    "    beta = np.zeros([s, s])\n",
    "\n",
    "    c = np.zeros(s)\n",
    "    Akr = r\n",
    "    c[-1] = - r @ Akr / alpha[-1]\n",
    "    beta[0] = -c @ Winv\n",
    "    for k in range(1, s):\n",
    "        Akr = A @ Akr\n",
    "        c[:-1] = c[1:]\n",
    "        rest = sum([alpha[-2-t] * c[-2-t] for t in range(k)])\n",
    "        c[-1] = -1 / alpha[-1] * ((r @ Akr) + rest)\n",
    "        beta[k] = -c @ Winv\n",
    "    return alpha, beta\n",
    "\n",
    "\n",
    "def s_cg(A, b, s=4):\n",
    "    x = np.zeros(b.shape)\n",
    "    P = np.zeros([s, len(b)])\n",
    "    Q = np.zeros([s, len(b)])\n",
    "    r0 = b - A @ x\n",
    "    powers(Q, A, b - A @ x)\n",
    "    for i in range(100):\n",
    "        print(f\"{i=}\")\n",
    "        print(f\"{np.linalg.norm(Q[0])=}\")\n",
    "\n",
    "        alpha, beta = scalar_work(i, Q)\n",
    "        Q += beta @ P\n",
    "        orth = Q @ A @ P.T\n",
    "        # plt.imshow(orth)\n",
    "        # plt.show()\n",
    "        # print(f\"{orth=}\")\n",
    "        # assert np.all(np.isclose(np.zeros(s), Q @ P.T)), \"Not orthogonal.\"\n",
    "        x += alpha @ Q\n",
    "        check(x, b)\n",
    "        powers(P, A, b - A @ x)\n",
    "        P, Q = Q, P\n",
    "    return x\n",
    "\n",
    "\n",
    "s_cg_sol = s_cg(A, b)\n",
    "print(np.linalg.norm(s_cg_sol @ A - b))"
   ]
  },
  {
   "cell_type": "code",
   "execution_count": null,
   "id": "994d23fd",
   "metadata": {},
   "outputs": [],
   "source": []
  }
 ],
 "metadata": {
  "kernelspec": {
   "display_name": "Python 3 (ipykernel)",
   "language": "python",
   "name": "python3"
  },
  "language_info": {
   "codemirror_mode": {
    "name": "ipython",
    "version": 3
   },
   "file_extension": ".py",
   "mimetype": "text/x-python",
   "name": "python",
   "nbconvert_exporter": "python",
   "pygments_lexer": "ipython3",
   "version": "3.10.5"
  }
 },
 "nbformat": 4,
 "nbformat_minor": 5
}
