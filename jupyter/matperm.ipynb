{
 "cells": [
  {
   "cell_type": "code",
   "execution_count": 5,
   "metadata": {},
   "outputs": [
    {
     "name": "stderr",
     "output_type": "stream",
     "text": [
      "/usr/lib/python2.7/json/encoder.py:207: DeprecationWarning: Interpreting naive datetime as local 2017-05-17 15:45:51.218722. Please add timezone info to timestamps.\n",
      "  chunks = self.iterencode(o, _one_shot=True)\n"
     ]
    }
   ],
   "source": [
    "%reset_selective  -f '.*'\n",
    "var('a b c d e f g h i j k');\n",
    "m = matrix([[a,b,c,d,e],\n",
    "            [f,g,h,i,0],\n",
    "            [a,b,c,0,0],\n",
    "            [j,k,0,0,0],\n",
    "            [a,0,0,0,0]\n",
    "           ])\n",
    "nm = matrix([[0.1,0.2,0],[0.3,0,0.4],[0,0.5,0]])\n",
    "morg = copy(m)\n",
    "\n",
    "i,j = 1,3\n",
    "\n",
    "def swap(m,i,j):\n",
    "    m[[i,j],:] = m[[j,i],:]\n",
    "    m[:,[i,j]] = m[:,[j,i]]\n",
    "\n",
    "swap(m,i,j)\n",
    "\n",
    "def mk_csr(A):\n",
    "    (m,n) = A.dimensions()\n",
    "    vala = []\n",
    "    coli = []\n",
    "    rowp = []\n",
    "    for i in range(m):\n",
    "        for j in range(n):\n",
    "            elem = A[i,j]\n",
    "            if elem != 0: \n",
    "                vala.append(elem)\n",
    "                coli.append(j)\n",
    "        rowp.append(len(coli))\n",
    "    rowp = [0] + rowp\n",
    "    return vala,coli,rowp\n",
    "\n",
    "def prn_csr(A):\n",
    "    vala,coli,rowp = mk_csr(A)\n",
    "    print(vala)\n",
    "    print(coli)\n",
    "    print(rowp)\n",
    "    print(range(len(rowp)))"
   ]
  },
  {
   "cell_type": "code",
   "execution_count": 6,
   "metadata": {},
   "outputs": [
    {
     "name": "stdout",
     "output_type": "stream",
     "text": [
      "[a, b, c, d, e, f, g, h, i, a, b, c, j, k, a]\n",
      "[0, 1, 2, 3, 4, 0, 1, 2, 3, 0, 1, 2, 0, 1, 0]\n",
      "[0, 5, 9, 12, 14, 15]\n",
      "[0, 1, 2, 3, 4, 5]\n",
      "[a, d, c, b, e, j, k, a, c, b, f, i, h, g, a]\n",
      "[0, 1, 2, 3, 4, 0, 3, 0, 2, 3, 0, 1, 2, 3, 0]\n",
      "[0, 5, 7, 10, 14, 15]\n",
      "[0, 1, 2, 3, 4, 5]\n"
     ]
    },
    {
     "data": {
      "text/plain": [
       "(\n",
       "[a b c d e]  [a d c b e]\n",
       "[f g h i 0]  [j 0 0 k 0]\n",
       "[a b c 0 0]  [a 0 c b 0]\n",
       "[j k 0 0 0]  [f i h g 0]\n",
       "[a 0 0 0 0], [a 0 0 0 0]\n",
       ")"
      ]
     },
     "execution_count": 6,
     "metadata": {},
     "output_type": "execute_result"
    },
    {
     "name": "stderr",
     "output_type": "stream",
     "text": [
      "/usr/lib/python2.7/json/encoder.py:207: DeprecationWarning: Interpreting naive datetime as local 2017-05-17 15:45:52.898772. Please add timezone info to timestamps.\n",
      "  chunks = self.iterencode(o, _one_shot=True)\n"
     ]
    }
   ],
   "source": [
    "prn_csr(morg)\n",
    "prn_csr(m)\n",
    "morg,m"
   ]
  },
  {
   "cell_type": "code",
   "execution_count": 58,
   "metadata": {},
   "outputs": [
    {
     "data": {
      "text/plain": [
       "([4, 0, 0, 0, 1, 3, 4, 1, 1, 4, 4, 3, 2, 4, 1, 1, 1, 1, 0, 1],\n",
       " [0, 0, 0, 0, 1, 1, 1, 1, 1, 1, 1, 1, 2, 3, 3, 4, 4, 4, 4, 4],\n",
       " [1, 2, 3, 18, 4, 7, 8, 14, 15, 16, 17, 19, 12, 5, 11, 0, 6, 9, 10, 13])"
      ]
     },
     "execution_count": 58,
     "metadata": {},
     "output_type": "execute_result"
    },
    {
     "name": "stderr",
     "output_type": "stream",
     "text": [
      "/usr/lib/python2.7/json/encoder.py:207: DeprecationWarning: Interpreting naive datetime as local 2017-05-17 16:14:42.025809. Please add timezone info to timestamps.\n",
      "  chunks = self.iterencode(o, _one_shot=True)\n"
     ]
    }
   ],
   "source": [
    "%reset_selective -f '.*'\n",
    "import random\n",
    "bigpart = random_vector(4)\n",
    "bigpart\n",
    "n = 20\n",
    "np = 5\n",
    "rv = random.sample(range(4*n),n)\n",
    "rv = list(map(lambda x: x % np, rv))\n",
    "\n",
    "srv = []\n",
    "sid = []\n",
    "for i in range(np):\n",
    "    for j in range(n):\n",
    "        if rv[j]==i: \n",
    "            srv.append(rv[j])\n",
    "            sid.append(j)\n",
    "rv,srv,sid\n",
    "#sorted(rv)"
   ]
  },
  {
   "cell_type": "code",
   "execution_count": 4,
   "metadata": {},
   "outputs": [
    {
     "name": "stdout",
     "output_type": "stream",
     "text": [
      "[2, 1, 3, 4, 5]\n",
      "[2, 1, 3, 5, 4]\n",
      "[2, 1, 4, 3, 5]\n",
      "[2, 1, 4, 5, 3]\n",
      "[2, 1, 5, 3, 4]\n",
      "[2, 1, 5, 4, 3]\n",
      "[2, 3, 1, 4, 5]\n",
      "[2, 3, 1, 5, 4]\n",
      "[2, 3, 4, 1, 5]\n",
      "[2, 3, 4, 5, 1]\n"
     ]
    },
    {
     "name": "stderr",
     "output_type": "stream",
     "text": [
      "/usr/lib/python2.7/json/encoder.py:207: DeprecationWarning: Interpreting naive datetime as local 2017-05-26 09:00:46.016962. Please add timezone info to timestamps.\n",
      "  chunks = self.iterencode(o, _one_shot=True)\n"
     ]
    }
   ],
   "source": [
    "%reset_selective -f '.*'\n",
    "\n",
    "import itertools\n",
    "\n",
    "p3 = Permutations(5)\n",
    "for p in itertools.islice(p3, 24, 34):\n",
    "    print(p)"
   ]
  },
  {
   "cell_type": "code",
   "execution_count": 30,
   "metadata": {},
   "outputs": [
    {
     "name": "stdout",
     "output_type": "stream",
     "text": [
      "[4, 0, 1, 2, 3]\n"
     ]
    },
    {
     "data": {
      "text/plain": [
       "([10, 20, 30, 40, 0], [0, 1, 2, 3, 4])"
      ]
     },
     "execution_count": 30,
     "metadata": {},
     "output_type": "execute_result"
    },
    {
     "name": "stderr",
     "output_type": "stream",
     "text": [
      "/usr/lib/python2.7/json/encoder.py:207: DeprecationWarning: Interpreting naive datetime as local 2017-05-26 09:47:33.340338. Please add timezone info to timestamps.\n",
      "  chunks = self.iterencode(o, _one_shot=True)\n"
     ]
    }
   ],
   "source": [
    "%reset_selective -f '.*'\n",
    "vec = [0, 10, 20, 30, 40]\n",
    "#perms = Permutations(5)\n",
    "#per = list(map(lambda x: x-1,perms[27]))\n",
    "per = [4,0,1,2,3]\n",
    "print(per)\n",
    "for i in range(len(per)):\n",
    "    #tmi = per[i]\n",
    "    #tmp = vec[i]\n",
    "    #per[i] = per[tmi]\n",
    "    #vec[i] = vec[tmi]\n",
    "    #per[tmi] = tmi\n",
    "    #vec[tmi] = tmp\n",
    "    j = per[i]\n",
    "    vec[i],vec[j] = vec[j],vec[i]\n",
    "    per[i],per[j] = per[j],per[i]\n",
    "vec,per"
   ]
  },
  {
   "cell_type": "code",
   "execution_count": 58,
   "metadata": {},
   "outputs": [
    {
     "data": {
      "text/plain": [
       "(['4', '3', '2', '0', '1'],\n",
       " ['4', '3', '2', '0', '1'],\n",
       " ['0', '1', '2', '3', '4'],\n",
       " [4, 3, 2, 0, 1])"
      ]
     },
     "execution_count": 58,
     "metadata": {},
     "output_type": "execute_result"
    },
    {
     "name": "stderr",
     "output_type": "stream",
     "text": [
      "/usr/lib/python2.7/json/encoder.py:207: DeprecationWarning: Interpreting naive datetime as local 2017-05-26 14:12:10.222640. Please add timezone info to timestamps.\n",
      "  chunks = self.iterencode(o, _one_shot=True)\n"
     ]
    }
   ],
   "source": [
    "%reset_selective -f '.*'\n",
    "\n",
    "def invcomp(lst):\n",
    "    n = len(lst)\n",
    "    rv = []\n",
    "    for i in range(n-1):\n",
    "        rv.append(lst[i+1]-lst[i])\n",
    "    return rv\n",
    "\n",
    "def comp(lst):\n",
    "    n = len(lst)\n",
    "    rv = [0]\n",
    "    for i in range(n):\n",
    "        rv.append(rv[i]+lst[i])\n",
    "    return rv\n",
    "\n",
    "def permute(per,vec):\n",
    "    n = len(per)\n",
    "    ii = 0 \n",
    "    while ii < n:\n",
    "        if per[ii] == -1: \n",
    "            ii += 1\n",
    "            continue\n",
    "        i = per[ii]\n",
    "        per[ii] = -1\n",
    "        while i != ii:\n",
    "            j = per[i]\n",
    "            per[i] = -1\n",
    "            vec[i], vec[j] = vec[j], vec[i]\n",
    "            i = j\n",
    "        ii += 1\n",
    "    return vec\n",
    "\n",
    "def permute2(per,vec):\n",
    "    n = len(per)\n",
    "    rv = copy(vec)\n",
    "    for i in range(n):\n",
    "        j = per[i]\n",
    "        rv[i] = vec[j]\n",
    "    return rv\n",
    "\n",
    "def permute3(per,vec):\n",
    "    n = len(per)\n",
    "    rv = copy(vec)\n",
    "    for i in range(n):\n",
    "        j = per[i]\n",
    "        rv[i+1] = vec[j+1] - vec[j]\n",
    "    return rv\n",
    "\n",
    "per = [4,3,2,0,1]\n",
    "vec = list(\"01234\")\n",
    "permute(copy(per),copy(vec)), permute2(per,vec), vec, per"
   ]
  },
  {
   "cell_type": "code",
   "execution_count": 68,
   "metadata": {},
   "outputs": [
    {
     "data": {
      "text/plain": [
       "([0, 2, 12, 18, 21, 22], [0, 2, 12, 18, 21, 22])"
      ]
     },
     "execution_count": 68,
     "metadata": {},
     "output_type": "execute_result"
    },
    {
     "name": "stderr",
     "output_type": "stream",
     "text": [
      "/usr/lib/python2.7/json/encoder.py:207: DeprecationWarning: Interpreting naive datetime as local 2017-05-26 14:17:51.681683. Please add timezone info to timestamps.\n",
      "  chunks = self.iterencode(o, _one_shot=True)\n"
     ]
    }
   ],
   "source": [
    "idxs = [0,3,4,10,20,22]\n",
    "comp(permute3(per,idxs)[1:]), comp(permute2(per,invcomp(idxs)))"
   ]
  },
  {
   "cell_type": "code",
   "execution_count": null,
   "metadata": {
    "collapsed": true
   },
   "outputs": [],
   "source": []
  }
 ],
 "metadata": {
  "kernelspec": {
   "display_name": "SageMath 7.6",
   "language": "",
   "name": "sagemath"
  },
  "language_info": {
   "codemirror_mode": {
    "name": "ipython",
    "version": 2
   },
   "file_extension": ".py",
   "mimetype": "text/x-python",
   "name": "python",
   "nbconvert_exporter": "python",
   "pygments_lexer": "ipython2",
   "version": "2.7.13"
  }
 },
 "nbformat": 4,
 "nbformat_minor": 2
}
